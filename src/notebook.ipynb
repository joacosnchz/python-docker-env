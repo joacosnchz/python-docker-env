{
 "cells": [
  {
   "cell_type": "code",
   "execution_count": 1,
   "id": "f14ed70a-9cdd-4593-8b89-718245a13af7",
   "metadata": {},
   "outputs": [],
   "source": [
    "import py_module"
   ]
  }
 ],
 "metadata": {
  "kernelspec": {
   "display_name": "Python 3 (ipykernel)",
   "language": "python",
   "name": "python3"
  },
  "language_info": {
   "codemirror_mode": {
    "name": "ipython",
    "version": 3
   },
   "file_extension": ".py",
   "mimetype": "text/x-python",
   "name": "python",
   "nbconvert_exporter": "python",
   "pygments_lexer": "ipython3",
   "version": "3.10.14"
  }
 },
 "nbformat": 4,
 "nbformat_minor": 5
}
